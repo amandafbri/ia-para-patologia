{
  "cells": [
    {
      "cell_type": "markdown",
      "source": [
        "# **Carregando modelo fine tuned de classificação para patologia**"
      ],
      "metadata": {
        "id": "jtSiRrLFzmgu"
      }
    },
    {
      "cell_type": "markdown",
      "source": [
        "Para servir um modelo na Vertex AI, é preferível ter um formato mais portátil, como um SavedModel, já que a plataforma usa o TensorFlow Serving por baixo dos panos. Neste caso, vamos recarregar o modelo original para convertê-lo."
      ],
      "metadata": {
        "id": "EV48f30yr5Tp"
      }
    },
    {
      "cell_type": "markdown",
      "source": [
        "Para acessar o Hugging Face, use um token: https://huggingface.co/settings/tokens"
      ],
      "metadata": {
        "id": "z428dcmQ1Hr5"
      }
    },
    {
      "cell_type": "code",
      "source": [
        "from huggingface_hub import HfFolder\n",
        "\n",
        "HfFolder.save_token(\"YOUR_TOKEN\")"
      ],
      "metadata": {
        "id": "60zYeCHE0Tru"
      },
      "execution_count": null,
      "outputs": []
    },
    {
      "cell_type": "markdown",
      "source": [
        "Para carregar o modelo, precisamos da classe EmbeddingLayer usada antes"
      ],
      "metadata": {
        "id": "7eKNiQZP1Knb"
      }
    },
    {
      "cell_type": "code",
      "source": [
        "import tensorflow as tf\n",
        "\n",
        "from tensorflow.keras.saving import register_keras_serializable\n",
        "from tensorflow.keras.layers import Layer\n",
        "from tensorflow.keras.models import load_model\n",
        "\n",
        "from huggingface_hub import from_pretrained_keras\n",
        "\n",
        "@register_keras_serializable()\n",
        "class EmbeddingLayer(Layer):\n",
        "  \"\"\"A custom Keras layer that wraps a pre-trained embedding model for fine-tuning.\"\"\"\n",
        "\n",
        "  def __init__(self, model, model_name='google/path-foundation', **kwargs):\n",
        "    \"\"\" Initialize the EmbeddingLayer with a pre-trained model. \"\"\"\n",
        "    super().__init__(**kwargs)\n",
        "    self.embedding_model = model\n",
        "    self.model_name = model_name\n",
        "\n",
        "\n",
        "  @tf.function\n",
        "  def call(self, inputs):\n",
        "    \"\"\" Compute embeddings by passing inputs through the embedding model. \"\"\"\n",
        "    return self.embedding_model(inputs)\n",
        "\n",
        "  def get_config(self):\n",
        "    \"\"\" Return the configuration dictionary of the layer for serialization. \"\"\"\n",
        "    config = super().get_config()\n",
        "    config.update({\n",
        "        'model_name': self.model_name\n",
        "    })\n",
        "    return config\n",
        "\n",
        "  @classmethod\n",
        "  def from_config(cls, config):\n",
        "    \"\"\" Instantiate an EmbeddingLayer from a configuration dictionary. \"\"\"\n",
        "    model_name = config.pop('model_name')\n",
        "    embedding_model = from_pretrained_keras(model_name, compile=False)\n",
        "    return cls(model=embedding_model, model_name=model_name, **config)"
      ],
      "metadata": {
        "id": "cXuh5epYqFkI"
      },
      "execution_count": null,
      "outputs": []
    },
    {
      "cell_type": "markdown",
      "source": [
        "Não se esqueça de carregar seu `fine_tuned_model.keras` em um local acessível ao ambiente de execução do notebook."
      ],
      "metadata": {
        "id": "RHJuuv8P079E"
      }
    },
    {
      "cell_type": "code",
      "source": [
        "model_finetuned = load_model('fine_tuned_model.keras', compile=False)"
      ],
      "metadata": {
        "id": "eEgs_3zk0vkv"
      },
      "execution_count": null,
      "outputs": []
    },
    {
      "cell_type": "code",
      "source": [
        "model_finetuned.summary()"
      ],
      "metadata": {
        "id": "wFVoCDIfr4ic"
      },
      "execution_count": null,
      "outputs": []
    },
    {
      "cell_type": "markdown",
      "source": [
        "Modelo devidamente recarregado, agora vamos salvá-lo no formato `SavedModel`:"
      ],
      "metadata": {
        "id": "Kf1ypcS01RdG"
      }
    },
    {
      "cell_type": "code",
      "source": [
        "model_finetuned.export('fine_tuned_model_tf', format='tf_saved_model')"
      ],
      "metadata": {
        "id": "siYudEwpsBQJ"
      },
      "execution_count": null,
      "outputs": []
    },
    {
      "cell_type": "markdown",
      "source": [
        "##**Vamos testar o modelo no novo formato e comparar com o anterior**"
      ],
      "metadata": {
        "id": "zyzeWHTFvnY6"
      }
    },
    {
      "cell_type": "code",
      "source": [
        "# Se quiser executar o notebook sem as etapas anteriores:\n",
        "# import tensorflow as tf"
      ],
      "metadata": {
        "id": "_zjLoHU3wCM4"
      },
      "execution_count": null,
      "outputs": []
    },
    {
      "cell_type": "code",
      "source": [
        "reloaded_artifact = tf.saved_model.load(\"fine_tuned_model_tf\")"
      ],
      "metadata": {
        "id": "7lklHy9Fs4m5"
      },
      "execution_count": null,
      "outputs": []
    },
    {
      "cell_type": "markdown",
      "source": [
        "Vamos utilizar uma imagem de testes disponível no Hugging Face:"
      ],
      "metadata": {
        "id": "AVS-FimM1r07"
      }
    },
    {
      "cell_type": "code",
      "source": [
        "from PIL import Image as PILImage\n",
        "from IPython.display import display\n",
        "from huggingface_hub import hf_hub_download\n",
        "\n",
        "# Download the test image from Hugging Face Hub\n",
        "hf_hub_download(repo_id=\"google/path-foundation\", filename='Test.png', local_dir='.')\n",
        "\n",
        "# Open the image, crop it, convert it to RGB format, and display it.\n",
        "img = PILImage.open(\"Test.png\").crop((0, 0, 224, 224)).convert('RGB')\n",
        "display(img)"
      ],
      "metadata": {
        "id": "BI27qruZuR3F"
      },
      "execution_count": null,
      "outputs": []
    },
    {
      "cell_type": "markdown",
      "source": [
        "Converta a imagem em um Tensor e dimensione para [0, 1]:\n"
      ],
      "metadata": {
        "id": "nCV88CYq1046"
      }
    },
    {
      "cell_type": "code",
      "source": [
        "import numpy as np\n",
        "\n",
        "# Convert the image to a Tensor and scale to [0, 1]\n",
        "tensor = tf.cast(tf.expand_dims(np.array(img), axis=0), tf.float32) / 255.0"
      ],
      "metadata": {
        "id": "2aVkbhCbuXba"
      },
      "execution_count": null,
      "outputs": []
    },
    {
      "cell_type": "code",
      "source": [
        "prediction_savedmodel = reloaded_artifact.serve(tensor)\n",
        "prediction_savedmodel"
      ],
      "metadata": {
        "id": "k0sKa7_quifc"
      },
      "execution_count": null,
      "outputs": []
    },
    {
      "cell_type": "code",
      "source": [
        "prediction_keras = model_finetuned(tensor).numpy()\n",
        "prediction_keras"
      ],
      "metadata": {
        "id": "OxTvoKiGu7cg"
      },
      "execution_count": null,
      "outputs": []
    },
    {
      "cell_type": "markdown",
      "source": [
        "Mesmos resultados? Então tudo certo!\n",
        "\n",
        "Para referência: **array([[0.947213  , 0.05278708]], dtype=float32)**"
      ],
      "metadata": {
        "id": "MA1FzzoP2ANG"
      }
    }
  ],
  "metadata": {
    "colab": {
      "provenance": []
    },
    "kernelspec": {
      "display_name": "Python 3",
      "name": "python3"
    },
    "language_info": {
      "name": "python"
    }
  },
  "nbformat": 4,
  "nbformat_minor": 0
}